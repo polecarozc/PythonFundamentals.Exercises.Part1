{
 "cells": [
  {
   "cell_type": "code",
   "execution_count": 12,
   "id": "3383dbff-3e3c-4ef5-a540-3e652a627049",
   "metadata": {
    "tags": []
   },
   "outputs": [
    {
     "name": "stdout",
     "output_type": "stream",
     "text": [
      "hello World\n"
     ]
    }
   ],
   "source": [
    "\"\"\"\n",
    "Exercise 1\n",
    "writing hello python\n",
    "\"\"\"\n",
    "print(\"hello python\")"
   ]
  },
  {
   "cell_type": "code",
   "execution_count": 16,
   "id": "28a19d26-113b-4190-a675-0be119007c42",
   "metadata": {
    "tags": []
   },
   "outputs": [
    {
     "data": {
      "text/plain": [
       "bool"
      ]
     },
     "execution_count": 16,
     "metadata": {},
     "output_type": "execute_result"
    }
   ],
   "source": [
    "\"\"\"\n",
    "Exercise 2\n",
    "identifying each variable type\n",
    "\"\"\"\n",
    "type(True)"
   ]
  },
  {
   "cell_type": "code",
   "execution_count": 17,
   "id": "aaba86b9-4a0b-42d0-abd7-65a1c77ed389",
   "metadata": {
    "tags": []
   },
   "outputs": [
    {
     "data": {
      "text/plain": [
       "int"
      ]
     },
     "execution_count": 17,
     "metadata": {},
     "output_type": "execute_result"
    }
   ],
   "source": [
    "type(42)"
   ]
  },
  {
   "cell_type": "code",
   "execution_count": 18,
   "id": "73ebf3af-930e-4131-937a-f2eacc12da5b",
   "metadata": {
    "tags": []
   },
   "outputs": [
    {
     "data": {
      "text/plain": [
       "bool"
      ]
     },
     "execution_count": 18,
     "metadata": {},
     "output_type": "execute_result"
    }
   ],
   "source": [
    "type(False)"
   ]
  },
  {
   "cell_type": "code",
   "execution_count": 19,
   "id": "c5a8cecd-cad1-4110-89d5-24df2687b208",
   "metadata": {
    "tags": []
   },
   "outputs": [
    {
     "data": {
      "text/plain": [
       "float"
      ]
     },
     "execution_count": 19,
     "metadata": {},
     "output_type": "execute_result"
    }
   ],
   "source": [
    "type(1.5)"
   ]
  },
  {
   "cell_type": "code",
   "execution_count": 20,
   "id": "f7db9223-1ef7-4b4c-96d4-7f45e3c76c10",
   "metadata": {
    "tags": []
   },
   "outputs": [
    {
     "data": {
      "text/plain": [
       "str"
      ]
     },
     "execution_count": 20,
     "metadata": {},
     "output_type": "execute_result"
    }
   ],
   "source": [
    "type(\"python is fun\")"
   ]
  },
  {
   "cell_type": "code",
   "execution_count": 21,
   "id": "0b521106-086e-4433-a7e0-81fa689c2015",
   "metadata": {
    "tags": []
   },
   "outputs": [
    {
     "data": {
      "text/plain": [
       "str"
      ]
     },
     "execution_count": 21,
     "metadata": {},
     "output_type": "execute_result"
    }
   ],
   "source": [
    "type(\"3.5\")"
   ]
  },
  {
   "cell_type": "code",
   "execution_count": 22,
   "id": "51d7829a-7a4b-45a5-98ba-efc52cfb8a61",
   "metadata": {
    "tags": []
   },
   "outputs": [
    {
     "data": {
      "text/plain": [
       "2"
      ]
     },
     "execution_count": 22,
     "metadata": {},
     "output_type": "execute_result"
    }
   ],
   "source": [
    "\"\"\"\n",
    "Exercise 3\n",
    "doing basic arithmetic\n",
    "\"\"\"\n",
    "1+1"
   ]
  },
  {
   "cell_type": "code",
   "execution_count": 23,
   "id": "12693ea2-a9cc-4c9c-aea2-8afe9e716f1d",
   "metadata": {
    "tags": []
   },
   "outputs": [
    {
     "data": {
      "text/plain": [
       "0"
      ]
     },
     "execution_count": 23,
     "metadata": {},
     "output_type": "execute_result"
    }
   ],
   "source": [
    "1-1"
   ]
  },
  {
   "cell_type": "code",
   "execution_count": 24,
   "id": "f39a521c-56b0-4390-ab39-0107873dbdab",
   "metadata": {
    "tags": []
   },
   "outputs": [
    {
     "data": {
      "text/plain": [
       "4"
      ]
     },
     "execution_count": 24,
     "metadata": {},
     "output_type": "execute_result"
    }
   ],
   "source": [
    "2*2"
   ]
  },
  {
   "cell_type": "code",
   "execution_count": 25,
   "id": "dea98e63-0dd7-4083-9bfe-8ba8321c48a1",
   "metadata": {
    "tags": []
   },
   "outputs": [
    {
     "data": {
      "text/plain": [
       "2.0"
      ]
     },
     "execution_count": 25,
     "metadata": {},
     "output_type": "execute_result"
    }
   ],
   "source": [
    "10/5"
   ]
  },
  {
   "cell_type": "code",
   "execution_count": 26,
   "id": "22f03c70-522b-4a7a-a255-8797304d2e9f",
   "metadata": {
    "tags": []
   },
   "outputs": [
    {
     "data": {
      "text/plain": [
       "2"
      ]
     },
     "execution_count": 26,
     "metadata": {},
     "output_type": "execute_result"
    }
   ],
   "source": [
    "10//4"
   ]
  },
  {
   "cell_type": "code",
   "execution_count": 27,
   "id": "ecd5f360-171d-4c84-b1b8-c844306187d0",
   "metadata": {
    "tags": []
   },
   "outputs": [
    {
     "data": {
      "text/plain": [
       "0"
      ]
     },
     "execution_count": 27,
     "metadata": {},
     "output_type": "execute_result"
    }
   ],
   "source": [
    "10%5"
   ]
  },
  {
   "cell_type": "code",
   "execution_count": 31,
   "id": "c584971e-6de8-45f7-bece-76eeabf4f89c",
   "metadata": {
    "tags": []
   },
   "outputs": [
    {
     "name": "stdin",
     "output_type": "stream",
     "text": [
      "Enter your last name:  dinner\n"
     ]
    },
    {
     "name": "stdout",
     "output_type": "stream",
     "text": [
      "dinnerdinnerdinnerdinnerdinnerdinnerdinnerdinnerdinnerdinnerdinnerdinnerdinnerdinnerdinnerdinnerdinnerdinnerdinnerdinnerdinnerdinnerdinnerdinnerdinnerdinnerdinnerdinnerdinnerdinnerdinnerdinnerdinnerdinnerdinnerdinnerdinnerdinnerdinnerdinnerdinnerdinnerdinnerdinnerdinnerdinnerdinnerdinnerdinnerdinnerdinnerdinnerdinnerdinnerdinnerdinnerdinnerdinnerdinnerdinnerdinnerdinnerdinnerdinnerdinnerdinnerdinnerdinnerdinnerdinnerdinnerdinnerdinnerdinnerdinnerdinnerdinnerdinnerdinnerdinnerdinnerdinnerdinnerdinnerdinnerdinnerdinnerdinnerdinnerdinnerdinnerdinnerdinnerdinnerdinnerdinnerdinnerdinnerdinnerdinnerdinnerdinnerdinnerdinnerdinnerdinnerdinnerdinnerdinnerdinnerdinnerdinnerdinnerdinnerdinnerdinnerdinnerdinnerdinnerdinnerdinnerdinnerdinnerdinnerdinnerdinnerdinnerdinnerdinnerdinnerdinnerdinnerdinnerdinnerdinnerdinnerdinnerdinnerdinnerdinnerdinnerdinnerdinnerdinnerdinnerdinnerdinnerdinnerdinnerdinnerdinnerdinnerdinnerdinnerdinnerdinnerdinnerdinnerdinnerdinnerdinnerdinnerdinnerdinnerdinnerdinnerdinnerdinnerdinnerdinnerdinnerdinnerdinnerdinnerdinnerdinnerdinnerdinnerdinnerdinnerdinnerdinnerdinnerdinnerdinnerdinnerdinnerdinnerdinnerdinnerdinnerdinnerdinnerdinnerdinnerdinnerdinnerdinnerdinnerdinnerdinnerdinnerdinnerdinnerdinnerdinnerdinnerdinnerdinnerdinnerdinnerdinnerdinnerdinnerdinnerdinnerdinnerdinnerdinnerdinnerdinnerdinnerdinnerdinnerdinnerdinnerdinnerdinnerdinnerdinnerdinnerdinnerdinnerdinnerdinnerdinnerdinnerdinnerdinnerdinnerdinnerdinnerdinnerdinnerdinnerdinnerdinnerdinnerdinnerdinnerdinnerdinnerdinnerdinnerdinnerdinnerdinnerdinnerdinnerdinnerdinnerdinnerdinnerdinnerdinnerdinnerdinnerdinnerdinnerdinnerdinnerdinnerdinnerdinnerdinnerdinnerdinnerdinnerdinnerdinnerdinnerdinnerdinnerdinnerdinnerdinnerdinnerdinnerdinnerdinnerdinnerdinnerdinnerdinnerdinnerdinnerdinnerdinnerdinnerdinnerdinnerdinnerdinnerdinnerdinnerdinnerdinnerdinnerdinnerdinnerdinnerdinnerdinnerdinnerdinnerdinnerdinnerdinnerdinnerdinnerdinnerdinnerdinnerdinnerdinnerdinnerdinnerdinnerdinnerdinnerdinnerdinnerdinnerdinnerdinnerdinnerdinnerdinnerdinnerdinnerdinnerdinnerdinnerdinnerdinnerdinnerdinnerdinnerdinnerdinnerdinnerdinnerdinnerdinnerdinnerdinnerdinnerdinnerdinnerdinnerdinnerdinnerdinnerdinnerdinnerdinnerdinnerdinnerdinnerdinnerdinnerdinnerdinnerdinnerdinnerdinnerdinnerdinnerdinnerdinnerdinnerdinnerdinnerdinnerdinnerdinnerdinnerdinnerdinnerdinnerdinnerdinnerdinnerdinnerdinnerdinnerdinnerdinnerdinnerdinnerdinnerdinnerdinnerdinnerdinnerdinnerdinnerdinnerdinnerdinnerdinnerdinnerdinnerdinnerdinnerdinnerdinnerdinnerdinnerdinnerdinnerdinnerdinnerdinnerdinnerdinnerdinnerdinnerdinnerdinnerdinnerdinnerdinnerdinnerdinnerdinnerdinnerdinnerdinnerdinnerdinnerdinnerdinnerdinnerdinnerdinnerdinnerdinnerdinnerdinnerdinnerdinnerdinnerdinnerdinnerdinnerdinnerdinnerdinnerdinnerdinnerdinnerdinnerdinnerdinnerdinnerdinnerdinnerdinnerdinnerdinnerdinnerdinnerdinnerdinnerdinnerdinnerdinnerdinnerdinnerdinnerdinnerdinnerdinnerdinnerdinnerdinnerdinnerdinnerdinnerdinnerdinnerdinnerdinnerdinnerdinnerdinnerdinnerdinnerdinner\n"
     ]
    }
   ],
   "source": [
    "\"\"\"\n",
    "Exercise 4/5\n",
    "make a script that prints your name 500 times\n",
    "\"\"\"\n",
    "#name = input(\"Enter your name: \")\n",
    "name = input(\"Enter your last name: \")\n",
    "print(name *500)"
   ]
  },
  {
   "cell_type": "code",
   "execution_count": 28,
   "id": "4e5747e7-8fad-4c15-ad63-d9c019562ad5",
   "metadata": {
    "tags": []
   },
   "outputs": [
    {
     "data": {
      "text/plain": [
       "128"
      ]
     },
     "execution_count": 28,
     "metadata": {},
     "output_type": "execute_result"
    }
   ],
   "source": [
    "2**7"
   ]
  },
  {
   "cell_type": "code",
   "execution_count": 33,
   "id": "eda0b860-de6f-49e1-9655-559976feef8a",
   "metadata": {
    "tags": []
   },
   "outputs": [],
   "source": [
    "\"\"\"\n",
    "Exercise 6\n",
    "making a script to convert fahrenheit to celsius\n",
    "\"\"\"\n",
    "def fahrenheit_to_celsius(temp):\n",
    "    return (temp - 32) * 5/9"
   ]
  },
  {
   "cell_type": "code",
   "execution_count": 34,
   "id": "0f8909ee-783e-47bd-9841-5812e01a0f02",
   "metadata": {
    "tags": []
   },
   "outputs": [
    {
     "data": {
      "text/plain": [
       "4.444444444444445"
      ]
     },
     "execution_count": 34,
     "metadata": {},
     "output_type": "execute_result"
    }
   ],
   "source": [
    "fahrenheit_to_celsius(40)"
   ]
  },
  {
   "cell_type": "code",
   "execution_count": null,
   "id": "f55baab5-74e8-411c-b023-22b08f55eb92",
   "metadata": {},
   "outputs": [],
   "source": []
  }
 ],
 "metadata": {
  "kernelspec": {
   "display_name": "Python 3 (ipykernel)",
   "language": "python",
   "name": "python3"
  },
  "language_info": {
   "codemirror_mode": {
    "name": "ipython",
    "version": 3
   },
   "file_extension": ".py",
   "mimetype": "text/x-python",
   "name": "python",
   "nbconvert_exporter": "python",
   "pygments_lexer": "ipython3",
   "version": "3.8.16"
  }
 },
 "nbformat": 4,
 "nbformat_minor": 5
}
